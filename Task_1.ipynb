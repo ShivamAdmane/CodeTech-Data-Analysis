{
  "nbformat": 4,
  "nbformat_minor": 0,
  "metadata": {
    "colab": {
      "provenance": [],
      "authorship_tag": "ABX9TyPQwXKJAeYTyV5JOfiDT+0u",
      "include_colab_link": true
    },
    "kernelspec": {
      "name": "python3",
      "display_name": "Python 3"
    },
    "language_info": {
      "name": "python"
    }
  },
  "cells": [
    {
      "cell_type": "markdown",
      "metadata": {
        "id": "view-in-github",
        "colab_type": "text"
      },
      "source": [
        "<a href=\"https://colab.research.google.com/github/ShivamAdmane/CodeTech-Data-Analysis/blob/main/Task_1.ipynb\" target=\"_parent\"><img src=\"https://colab.research.google.com/assets/colab-badge.svg\" alt=\"Open In Colab\"/></a>"
      ]
    },
    {
      "cell_type": "code",
      "source": [
        "!pip install pyspark"
      ],
      "metadata": {
        "colab": {
          "base_uri": "https://localhost:8080/"
        },
        "id": "DABF5XU0YGfW",
        "outputId": "a1bb3f1b-810d-423f-ed35-e200d36ae55b"
      },
      "execution_count": 1,
      "outputs": [
        {
          "output_type": "stream",
          "name": "stdout",
          "text": [
            "Requirement already satisfied: pyspark in /usr/local/lib/python3.11/dist-packages (3.5.1)\n",
            "Requirement already satisfied: py4j==0.10.9.7 in /usr/local/lib/python3.11/dist-packages (from pyspark) (0.10.9.7)\n"
          ]
        }
      ]
    },
    {
      "cell_type": "code",
      "execution_count": 2,
      "metadata": {
        "id": "1ZFw43BSX9An"
      },
      "outputs": [],
      "source": [
        "from pyspark.sql import SparkSession"
      ]
    },
    {
      "cell_type": "code",
      "source": [
        "spark = SparkSession.builder.appName('Pyspark').getOrCreate()"
      ],
      "metadata": {
        "id": "a74jZPzNYKez"
      },
      "execution_count": 3,
      "outputs": []
    },
    {
      "cell_type": "code",
      "source": [
        "spark"
      ],
      "metadata": {
        "colab": {
          "base_uri": "https://localhost:8080/",
          "height": 219
        },
        "id": "h0hcoWvkYSpi",
        "outputId": "906e96c4-129c-447f-844d-bc66c2b03c29"
      },
      "execution_count": 4,
      "outputs": [
        {
          "output_type": "execute_result",
          "data": {
            "text/plain": [
              "<pyspark.sql.session.SparkSession at 0x7a4fec42f6d0>"
            ],
            "text/html": [
              "\n",
              "            <div>\n",
              "                <p><b>SparkSession - in-memory</b></p>\n",
              "                \n",
              "        <div>\n",
              "            <p><b>SparkContext</b></p>\n",
              "\n",
              "            <p><a href=\"http://e6f131da3676:4040\">Spark UI</a></p>\n",
              "\n",
              "            <dl>\n",
              "              <dt>Version</dt>\n",
              "                <dd><code>v3.5.1</code></dd>\n",
              "              <dt>Master</dt>\n",
              "                <dd><code>local[*]</code></dd>\n",
              "              <dt>AppName</dt>\n",
              "                <dd><code>Pyspark</code></dd>\n",
              "            </dl>\n",
              "        </div>\n",
              "        \n",
              "            </div>\n",
              "        "
            ]
          },
          "metadata": {},
          "execution_count": 4
        }
      ]
    },
    {
      "cell_type": "code",
      "source": [
        "df = spark.read.csv('/content/Task-1Dataset.csv',header=True,inferSchema=True)"
      ],
      "metadata": {
        "id": "UiwnzgKLYoH_"
      },
      "execution_count": 8,
      "outputs": []
    },
    {
      "cell_type": "code",
      "source": [
        "df.show(3)"
      ],
      "metadata": {
        "colab": {
          "base_uri": "https://localhost:8080/"
        },
        "id": "LlZFcrw7Yr4f",
        "outputId": "40c5332a-7abe-4355-9707-c2c3d4c65555"
      },
      "execution_count": 9,
      "outputs": [
        {
          "output_type": "stream",
          "name": "stdout",
          "text": [
            "+----+-----+--------------------+-------------+-----------+-----------+\n",
            "|Rank|Grade|        Channel name|Video Uploads|Subscribers|Video views|\n",
            "+----+-----+--------------------+-------------+-----------+-----------+\n",
            "| 1st| A++ |              Zee TV|        82757|   18752951|20869786591|\n",
            "| 2nd| A++ |            T-Series|        12661|   61196302|47548839843|\n",
            "| 3rd| A++ |Cocomelon - Nurse...|          373|   19238251| 9793305082|\n",
            "+----+-----+--------------------+-------------+-----------+-----------+\n",
            "only showing top 3 rows\n",
            "\n"
          ]
        }
      ]
    },
    {
      "cell_type": "code",
      "source": [
        "df.printSchema()"
      ],
      "metadata": {
        "colab": {
          "base_uri": "https://localhost:8080/"
        },
        "id": "UW3bw0zMZ8aj",
        "outputId": "63b6dde9-7596-48e9-e692-c2dc2642bfb5"
      },
      "execution_count": 10,
      "outputs": [
        {
          "output_type": "stream",
          "name": "stdout",
          "text": [
            "root\n",
            " |-- Rank: string (nullable = true)\n",
            " |-- Grade: string (nullable = true)\n",
            " |-- Channel name: string (nullable = true)\n",
            " |-- Video Uploads: string (nullable = true)\n",
            " |-- Subscribers: string (nullable = true)\n",
            " |-- Video views: long (nullable = true)\n",
            "\n"
          ]
        }
      ]
    },
    {
      "cell_type": "code",
      "source": [
        "df.columns"
      ],
      "metadata": {
        "colab": {
          "base_uri": "https://localhost:8080/"
        },
        "id": "fho5k1cVaArR",
        "outputId": "697442d4-7ab0-4a3a-e7cd-5018d4f72ae3"
      },
      "execution_count": 11,
      "outputs": [
        {
          "output_type": "execute_result",
          "data": {
            "text/plain": [
              "['Rank',\n",
              " 'Grade',\n",
              " 'Channel name',\n",
              " 'Video Uploads',\n",
              " 'Subscribers',\n",
              " 'Video views']"
            ]
          },
          "metadata": {},
          "execution_count": 11
        }
      ]
    },
    {
      "cell_type": "code",
      "source": [
        "df.count()"
      ],
      "metadata": {
        "colab": {
          "base_uri": "https://localhost:8080/"
        },
        "id": "AO33W9UpaEAn",
        "outputId": "bf06264b-539d-40e4-f728-9fce70fd168b"
      },
      "execution_count": 12,
      "outputs": [
        {
          "output_type": "execute_result",
          "data": {
            "text/plain": [
              "5000"
            ]
          },
          "metadata": {},
          "execution_count": 12
        }
      ]
    },
    {
      "cell_type": "code",
      "source": [
        "len(df.columns)"
      ],
      "metadata": {
        "colab": {
          "base_uri": "https://localhost:8080/"
        },
        "id": "BfZ_AEEhaGrU",
        "outputId": "b917b81b-b09f-407c-c363-589ec7d95035"
      },
      "execution_count": 13,
      "outputs": [
        {
          "output_type": "execute_result",
          "data": {
            "text/plain": [
              "6"
            ]
          },
          "metadata": {},
          "execution_count": 13
        }
      ]
    },
    {
      "cell_type": "code",
      "source": [
        "df.describe().show()"
      ],
      "metadata": {
        "colab": {
          "base_uri": "https://localhost:8080/"
        },
        "id": "oLiUtuwLaJrX",
        "outputId": "c1a3b7be-0775-4ddb-97bc-704ba4098131"
      },
      "execution_count": 14,
      "outputs": [
        {
          "output_type": "stream",
          "name": "stdout",
          "text": [
            "+-------+-------+-----+--------------------+-----------------+------------------+--------------------+\n",
            "|summary|   Rank|Grade|        Channel name|    Video Uploads|       Subscribers|         Video views|\n",
            "+-------+-------+-----+--------------------+-----------------+------------------+--------------------+\n",
            "|  count|   5000| 5000|                5000|             5000|              5000|                5000|\n",
            "|   mean|   NULL| NULL|                NULL|3859.463556267521|2620004.1344027747|     1.07144940015E9|\n",
            "| stddev|   NULL| NULL|                NULL|17085.86649849457| 3926447.472197369|2.0038439721239917E9|\n",
            "|    min|1,000th|   A |\"Free Music \"\"Nas...|               --|               -- |                  75|\n",
            "|    max|    9th|     |            흔한남매|              999|           9998464|         47548839843|\n",
            "+-------+-------+-----+--------------------+-----------------+------------------+--------------------+\n",
            "\n"
          ]
        }
      ]
    },
    {
      "cell_type": "code",
      "source": [
        "df.columns"
      ],
      "metadata": {
        "colab": {
          "base_uri": "https://localhost:8080/"
        },
        "id": "veihAZECaOSi",
        "outputId": "44f0ce68-707b-4439-dc90-429652e50522"
      },
      "execution_count": 15,
      "outputs": [
        {
          "output_type": "execute_result",
          "data": {
            "text/plain": [
              "['Rank',\n",
              " 'Grade',\n",
              " 'Channel name',\n",
              " 'Video Uploads',\n",
              " 'Subscribers',\n",
              " 'Video views']"
            ]
          },
          "metadata": {},
          "execution_count": 15
        }
      ]
    },
    {
      "cell_type": "code",
      "source": [
        "df.toPandas()['Channel name'].unique()"
      ],
      "metadata": {
        "colab": {
          "base_uri": "https://localhost:8080/"
        },
        "id": "-wJ25V-KaRtd",
        "outputId": "3b43f8df-e2b8-493b-f319-bb8a621fea0a"
      },
      "execution_count": 17,
      "outputs": [
        {
          "output_type": "execute_result",
          "data": {
            "text/plain": [
              "array(['Zee TV', 'T-Series', 'Cocomelon - Nursery Rhymes', ...,\n",
              "       'Mastersaint', 'Bruce McIntosh', 'SehatAQUA'], dtype=object)"
            ]
          },
          "metadata": {},
          "execution_count": 17
        }
      ]
    },
    {
      "cell_type": "code",
      "source": [
        "len(df.toPandas()['Grade'].unique())"
      ],
      "metadata": {
        "colab": {
          "base_uri": "https://localhost:8080/"
        },
        "id": "QiemWCfuaaqn",
        "outputId": "985c865c-e3a7-4c05-b52f-5d415a65f0f3"
      },
      "execution_count": 19,
      "outputs": [
        {
          "output_type": "execute_result",
          "data": {
            "text/plain": [
              "6"
            ]
          },
          "metadata": {},
          "execution_count": 19
        }
      ]
    },
    {
      "cell_type": "code",
      "source": [
        "df.show()"
      ],
      "metadata": {
        "colab": {
          "base_uri": "https://localhost:8080/"
        },
        "id": "EkmQ5rzubGMl",
        "outputId": "65d3770e-c914-4cd7-c24d-cfd6c44d0c52"
      },
      "execution_count": 20,
      "outputs": [
        {
          "output_type": "stream",
          "name": "stdout",
          "text": [
            "+----+-----+--------------------+-------------+-----------+-----------+\n",
            "|Rank|Grade|        Channel name|Video Uploads|Subscribers|Video views|\n",
            "+----+-----+--------------------+-------------+-----------+-----------+\n",
            "| 1st| A++ |              Zee TV|        82757|   18752951|20869786591|\n",
            "| 2nd| A++ |            T-Series|        12661|   61196302|47548839843|\n",
            "| 3rd| A++ |Cocomelon - Nurse...|          373|   19238251| 9793305082|\n",
            "| 4th| A++ |           SET India|        27323|   31180559|22675948293|\n",
            "| 5th| A++ |                 WWE|        36756|   32852346|26273668433|\n",
            "| 6th| A++ |          Movieclips|        30243|   17149705|16618094724|\n",
            "| 7th| A++ |          netd müzik|         8500|   11373567|23898730764|\n",
            "| 8th| A++ |ABS-CBN Entertain...|       100147|   12149206|17202609850|\n",
            "| 9th| A++ |     Ryan ToysReview|         1140|   16082927|24518098041|\n",
            "|10th| A++ |         Zee Marathi|        74607|    2841811| 2591830307|\n",
            "|11th|  A+ |     5-Minute Crafts|         2085|   33492951| 8587520379|\n",
            "|12th|  A+ |     Canal KondZilla|          822|   39409726|19291034467|\n",
            "|13th|  A+ |    Like Nastya Vlog|          150|    7662886| 2540099931|\n",
            "|14th|  A+ |               Ozuna|           50|   18824912| 8727783225|\n",
            "|15th|  A+ |          Wave Music|        16119|   15899764|10989179147|\n",
            "|16th|  A+ |         Ch3Thailand|        49239|   11569723| 9388600275|\n",
            "|17th|  A+ |     WORLDSTARHIPHOP|         4778|   15830098|11102158475|\n",
            "|18th|  A+ |     Vlad and Nikita|           53|        -- | 1428274554|\n",
            "|19th|  A+ |             Badabun|         3060|   23603062| 5860444053|\n",
            "|20th|  A+ |   WorkpointOfficial|        24287|   17687229|14022189654|\n",
            "+----+-----+--------------------+-------------+-----------+-----------+\n",
            "only showing top 20 rows\n",
            "\n"
          ]
        }
      ]
    },
    {
      "cell_type": "code",
      "source": [
        "df.select('Grade').show()"
      ],
      "metadata": {
        "colab": {
          "base_uri": "https://localhost:8080/"
        },
        "id": "Jolnw5UUbQHP",
        "outputId": "09cbda7d-b460-4efb-a4cb-f1ad340042ef"
      },
      "execution_count": 22,
      "outputs": [
        {
          "output_type": "stream",
          "name": "stdout",
          "text": [
            "+-----+\n",
            "|Grade|\n",
            "+-----+\n",
            "| A++ |\n",
            "| A++ |\n",
            "| A++ |\n",
            "| A++ |\n",
            "| A++ |\n",
            "| A++ |\n",
            "| A++ |\n",
            "| A++ |\n",
            "| A++ |\n",
            "| A++ |\n",
            "|  A+ |\n",
            "|  A+ |\n",
            "|  A+ |\n",
            "|  A+ |\n",
            "|  A+ |\n",
            "|  A+ |\n",
            "|  A+ |\n",
            "|  A+ |\n",
            "|  A+ |\n",
            "|  A+ |\n",
            "+-----+\n",
            "only showing top 20 rows\n",
            "\n"
          ]
        }
      ]
    },
    {
      "cell_type": "code",
      "source": [
        "df.select(['Channel name','Subscribers']).show()\n"
      ],
      "metadata": {
        "colab": {
          "base_uri": "https://localhost:8080/"
        },
        "id": "XvNEutdMbam5",
        "outputId": "73e8091c-a5a4-40af-fd75-773c7ebf0c39"
      },
      "execution_count": 23,
      "outputs": [
        {
          "output_type": "stream",
          "name": "stdout",
          "text": [
            "+--------------------+-----------+\n",
            "|        Channel name|Subscribers|\n",
            "+--------------------+-----------+\n",
            "|              Zee TV|   18752951|\n",
            "|            T-Series|   61196302|\n",
            "|Cocomelon - Nurse...|   19238251|\n",
            "|           SET India|   31180559|\n",
            "|                 WWE|   32852346|\n",
            "|          Movieclips|   17149705|\n",
            "|          netd müzik|   11373567|\n",
            "|ABS-CBN Entertain...|   12149206|\n",
            "|     Ryan ToysReview|   16082927|\n",
            "|         Zee Marathi|    2841811|\n",
            "|     5-Minute Crafts|   33492951|\n",
            "|     Canal KondZilla|   39409726|\n",
            "|    Like Nastya Vlog|    7662886|\n",
            "|               Ozuna|   18824912|\n",
            "|          Wave Music|   15899764|\n",
            "|         Ch3Thailand|   11569723|\n",
            "|     WORLDSTARHIPHOP|   15830098|\n",
            "|     Vlad and Nikita|        -- |\n",
            "|             Badabun|   23603062|\n",
            "|   WorkpointOfficial|   17687229|\n",
            "+--------------------+-----------+\n",
            "only showing top 20 rows\n",
            "\n"
          ]
        }
      ]
    },
    {
      "cell_type": "code",
      "source": [
        "from pyspark.sql.functions import mean"
      ],
      "metadata": {
        "id": "-Bu0vOAPbvqE"
      },
      "execution_count": 26,
      "outputs": []
    },
    {
      "cell_type": "code",
      "source": [
        "meanl =df.select (mean('Subscribers')).collect()"
      ],
      "metadata": {
        "id": "q7mI_6OucdPc"
      },
      "execution_count": 28,
      "outputs": []
    },
    {
      "cell_type": "code",
      "source": [
        "meanl[0][0]"
      ],
      "metadata": {
        "colab": {
          "base_uri": "https://localhost:8080/"
        },
        "id": "1NsIIRjidfLf",
        "outputId": "2146b249-e68d-4ec7-e08e-25d0c9ca6d88"
      },
      "execution_count": 29,
      "outputs": [
        {
          "output_type": "execute_result",
          "data": {
            "text/plain": [
              "2620004.1344027747"
            ]
          },
          "metadata": {},
          "execution_count": 29
        }
      ]
    },
    {
      "cell_type": "code",
      "source": [
        "df.fillna(meanl[0][0]).show(8)"
      ],
      "metadata": {
        "colab": {
          "base_uri": "https://localhost:8080/"
        },
        "id": "R5_HXWVhdol3",
        "outputId": "c0330cc8-23de-4bc2-d93b-3674e08c15da"
      },
      "execution_count": 30,
      "outputs": [
        {
          "output_type": "stream",
          "name": "stdout",
          "text": [
            "+----+-----+--------------------+-------------+-----------+-----------+\n",
            "|Rank|Grade|        Channel name|Video Uploads|Subscribers|Video views|\n",
            "+----+-----+--------------------+-------------+-----------+-----------+\n",
            "| 1st| A++ |              Zee TV|        82757|   18752951|20869786591|\n",
            "| 2nd| A++ |            T-Series|        12661|   61196302|47548839843|\n",
            "| 3rd| A++ |Cocomelon - Nurse...|          373|   19238251| 9793305082|\n",
            "| 4th| A++ |           SET India|        27323|   31180559|22675948293|\n",
            "| 5th| A++ |                 WWE|        36756|   32852346|26273668433|\n",
            "| 6th| A++ |          Movieclips|        30243|   17149705|16618094724|\n",
            "| 7th| A++ |          netd müzik|         8500|   11373567|23898730764|\n",
            "| 8th| A++ |ABS-CBN Entertain...|       100147|   12149206|17202609850|\n",
            "+----+-----+--------------------+-------------+-----------+-----------+\n",
            "only showing top 8 rows\n",
            "\n"
          ]
        }
      ]
    },
    {
      "cell_type": "code",
      "source": [],
      "metadata": {
        "id": "zC05BDE9dsRF"
      },
      "execution_count": null,
      "outputs": []
    }
  ]
}